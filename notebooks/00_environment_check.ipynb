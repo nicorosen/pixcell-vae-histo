{
 "cells": [
  {
   "cell_type": "markdown",
   "id": "f6ec874c",
   "metadata": {},
   "source": [
    "# 00 — Environment Check\n",
    "This notebook verifies Python/Torch versions, selects device (prefers mps), tests a simple tensor op, and checks Hugging Face hub connectivity. See [env/environment.yml](../env/environment.yml:1)."
   ]
  },
  {
   "cell_type": "code",
   "execution_count": 1,
   "id": "e57e8771",
   "metadata": {},
   "outputs": [
    {
     "name": "stdout",
     "output_type": "stream",
     "text": [
      "Python: 3.11.1 (v3.11.1:a7a450f84a, Dec  6 2022, 15:24:06) [Clang 13.0.0 (clang-1300.0.29.30)]\n",
      "Platform: macOS-15.5-arm64-arm-64bit\n",
      "Torch: 2.8.0\n",
      "Selected device: mps\n"
     ]
    }
   ],
   "source": [
    "# Versions and device selection\n",
    "import sys, platform\n",
    "import torch\n",
    "print('Python:', sys.version)\n",
    "print('Platform:', platform.platform())\n",
    "print('Torch:', torch.__version__)\n",
    "\n",
    "if hasattr(torch.backends, 'mps') and torch.backends.mps.is_available():\n",
    "    device = torch.device('mps')\n",
    "else:\n",
    "    device = torch.device('cpu')\n",
    "print('Selected device:', device)"
   ]
  },
  {
   "cell_type": "code",
   "execution_count": 2,
   "id": "c11d56ac",
   "metadata": {},
   "outputs": [
    {
     "name": "stdout",
     "output_type": "stream",
     "text": [
      "a + b = tensor([[1., 2.],\n",
      "        [3., 4.]], device='mps:0')\n"
     ]
    }
   ],
   "source": [
    "# Simple tensor op on selected device\n",
    "a = torch.ones((2, 2), device=device)\n",
    "b = torch.arange(4, device=device).reshape(2, 2)\n",
    "print('a + b =', (a + b))"
   ]
  },
  {
   "cell_type": "code",
   "execution_count": 3,
   "id": "078a7a2a",
   "metadata": {},
   "outputs": [
    {
     "name": "stderr",
     "output_type": "stream",
     "text": [
      "/Users/nicorosen/code_projects/python/pixcell-vae-histo/pixcell_env/lib/python3.11/site-packages/tqdm/auto.py:21: TqdmWarning: IProgress not found. Please update jupyter and ipywidgets. See https://ipywidgets.readthedocs.io/en/stable/user_install.html\n",
      "  from .autonotebook import tqdm as notebook_tqdm\n"
     ]
    },
    {
     "name": "stdout",
     "output_type": "stream",
     "text": [
      "Found 10 files in repo: StonyBrook-CVLab/PixCell-1024\n",
      "Sample: ['.gitattributes', 'README.md', 'model_index.json', 'pixcell_1024_banner.png', 'scheduler/scheduler_config.json', 'test_image.png', 'transformer/config.json', 'transformer/diffusion_pytorch_model.safetensors', 'transformer/pixcell_transformer_2d.py', 'vae/config.json']\n"
     ]
    }
   ],
   "source": [
    "# Test Hugging Face hub connectivity (no auth required for public read)\n",
    "from huggingface_hub import list_repo_files\n",
    "repo_id = 'StonyBrook-CVLab/PixCell-1024'\n",
    "try:\n",
    "    files = list_repo_files(repo_id)\n",
    "    print(f'Found {len(files)} files in repo:', repo_id)\n",
    "    print('Sample:', files[:10])\n",
    "except Exception as e:\n",
    "    print('HF hub connectivity test failed:', e)"
   ]
  },
  {
   "cell_type": "markdown",
   "id": "a9ed1062",
   "metadata": {},
   "source": [
    "Next: Open [01_model_inference_pixcell.ipynb](01_model_inference_pixcell.ipynb:1) to run random synthesis.\n",
    "Notes: The loader is a TODO. Refer to the model card and replace the stubs accordingly."
   ]
  }
 ],
 "metadata": {
  "kernelspec": {
   "display_name": "pixcell_env",
   "language": "python",
   "name": "python3"
  },
  "language_info": {
   "codemirror_mode": {
    "name": "ipython",
    "version": 3
   },
   "file_extension": ".py",
   "mimetype": "text/x-python",
   "name": "python",
   "nbconvert_exporter": "python",
   "pygments_lexer": "ipython3",
   "version": "3.11.1"
  }
 },
 "nbformat": 4,
 "nbformat_minor": 5
}
