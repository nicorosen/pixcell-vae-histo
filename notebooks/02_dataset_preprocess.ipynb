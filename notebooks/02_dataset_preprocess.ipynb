{
 "cells": [
  {
   "cell_type": "markdown",
   "id": "d9f45649",
   "metadata": {},
   "source": [
    "# 02 — Dataset Prep and Reconstructions\n",
    "Download a few public, non-sensitive histology tiles, preprocess to model size (assume 1024; verify), and run encode→decode reconstructions. See [README.md](../README.md:1)."
   ]
  },
  {
   "cell_type": "markdown",
   "id": "99674547",
   "metadata": {},
   "source": [
    "## Download sample tiles\n",
    "- Replace URLs with your preferred public sample tiles.\n",
    "- Tiles will be stored in [data/inputs/](../data/inputs:1)."
   ]
  },
  {
   "cell_type": "code",
   "execution_count": null,
   "id": "6099744d",
   "metadata": {},
   "outputs": [],
   "source": [
    "from pathlib import Path\n",
    "import requests\n",
    "\n",
    "INPUT_DIR = Path('../data/inputs')\n",
    "INPUT_DIR.mkdir(parents=True, exist_ok=True)\n",
    "\n",
    "SAMPLE_URLS = [\n",
    "    # Placeholder non-sensitive images (replace with histology tiles you can use)\n",
    "    'https://picsum.photos/seed/histo1/1024/1024',\n",
    "    'https://picsum.photos/seed/histo2/1024/1024',\n",
    "    'https://picsum.photos/seed/histo3/1024/1024'\n",
    "]\n",
    "\n",
    "for i, url in enumerate(SAMPLE_URLS, 1):\n",
    "    dest = INPUT_DIR / f'sample_{i}.png'\n",
    "    try:\n",
    "        r = requests.get(url, timeout=30)\n",
    "        r.raise_for_status()\n",
    "        dest.write_bytes(r.content)\n",
    "        print('Downloaded:', dest)\n",
    "    except Exception as e:\n",
    "        print('Failed:', url, e)"
   ]
  },
  {
   "cell_type": "markdown",
   "id": "99f9457b",
   "metadata": {},
   "source": [
    "## Preprocess (resize/crop to 1024)\n",
    "Verify model-required size on the model card. This stub uses 1024. Outputs can overwrite or be stored separately."
   ]
  },
  {
   "cell_type": "code",
   "execution_count": null,
   "id": "5999994b",
   "metadata": {},
   "outputs": [],
   "source": [
    "from PIL import Image\n",
    "import numpy as np\n",
    "\n",
    "TARGET = 1024\n",
    "for p in INPUT_DIR.glob('*.png'):\n",
    "    try:\n",
    "        img = Image.open(p).convert('RGB')\n",
    "        img = img.resize((TARGET, TARGET), Image.BICUBIC)\n",
    "        img.save(p)\n",
    "        print('Preprocessed:', p)\n",
    "    except Exception as e:\n",
    "        print('Failed preprocess:', p, e)"
   ]
  },
  {
   "cell_type": "markdown",
   "id": "a0c144e3",
   "metadata": {},
   "source": [
    "## TODO: Encode → Decode with PixCell-1024\n",
    "# Replace stubs with the official encode/decode API per the model card: https://huggingface.co/StonyBrook-CVLab/PixCell-1024"
   ]
  },
  {
   "cell_type": "code",
   "execution_count": null,
   "id": "6f666996",
   "metadata": {},
   "outputs": [],
   "source": [
    "import torch\n",
    "from huggingface_hub import hf_hub_download\n",
    "from diffusers import AutoencoderKL, DiffusionPipeline\n",
    "import timm\n",
    "from timm.data import resolve_data_config\n",
    "from timm.data.transforms_factory import create_transform\n",
    "from pathlib import Path\n",
    "from PIL import Image\n",
    "import einops\n",
    "import matplotlib.pyplot as plt\n",
    "\n",
    "OUT_RECONS = Path('../data/outputs/reconstructions')\n",
    "OUT_RECONS.mkdir(parents=True, exist_ok=True)\n",
    "\n",
    "device = 'mps' if hasattr(__import__('torch').backends, 'mps') and __import__('torch').backends.mps.is_available() else 'cpu'\n",
    "\n",
    "# Load SD3 VAE\n",
    "sd3_vae = AutoencoderKL.from_pretrained(\"stabilityai/stable-diffusion-3.5-large\", subfolder=\"vae\")\n",
    "\n",
    "# Load PixCell-1024 pipeline\n",
    "pipeline = DiffusionPipeline.from_pretrained(\n",
    "    \"StonyBrook-CVLab/PixCell-1024\",\n",
    "    vae=sd3_vae,\n",
    "    custom_pipeline=\"StonyBrook-CVLab/PixCell-pipeline\",\n",
    "    trust_remote_code=True,\n",
    "    torch_dtype=torch.float16,\n",
    ")\n",
    "pipeline.to(device);\n",
    "\n",
    "# Load UNI-2h for conditioning\n",
    "timm_kwargs = {\n",
    "            'img_size': 224,\n",
    "            'patch_size': 14,\n",
    "            'depth': 24,\n",
    "            'num_heads': 24,\n",
    "            'init_values': 1e-5,\n",
    "            'embed_dim': 1536,\n",
    "            'mlp_ratio': 2.66667*2,\n",
    "            'num_classes': 0,\n",
    "            'no_embed_class': True,\n",
    "            'mlp_layer': timm.layers.SwiGLUPacked,\n",
    "            'act_layer': torch.nn.SiLU,\n",
    "            'reg_tokens': 8,\n",
    "            'dynamic_img_size': True\n",
    "        }\n",
    "uni_model = timm.create_model(\"hf-hub:MahmoodLab/UNI2-h\", pretrained=True, **timm_kwargs)\n",
    "transform = create_transform(**resolve_data_config(uni_model.pretrained_cfg, model=uni_model))\n",
    "uni_model.eval()\n",
    "uni_model.to(device);\n",
    "\n",
    "def encode(image):\n",
    "    # Rearrange 1024x1024 image into 16 256x256 patches\n",
    "    uni_patches = np.array(image)\n",
    "    uni_patches = einops.rearrange(uni_patches, '(d1 h) (d2 w) c -> (d1 d2) h w c', d1=4, d2=4)\n",
    "    uni_input = torch.stack([transform(Image.fromarray(item)) for item in uni_patches])\n",
    "\n",
    "    # Extract UNI embeddings\n",
    "    with torch.inference_mode():\n",
    "        uni_emb = uni_model(uni_input.to(device))\n",
    "\n",
    "    # reshape UNI to (bs, 16, D)\n",
    "    uni_emb = uni_emb.unsqueeze(0)\n",
    "    return uni_emb\n",
    "\n",
    "def decode(latent, guidance_scale=1.5):\n",
    "    # Get unconditional embedding for classifier-free guidance\n",
    "    uncond = pipeline.get_unconditional_embedding(latent.shape[0])\n",
    "    # Generate new samples\n",
    "    with torch.amp.autocast(device.type):\n",
    "        samples = pipeline(uni_embeds=latent, negative_uni_embeds=uncond, guidance_scale=guidance_scale).images\n",
    "    return samples[0] # return single image\n",
    "\n",
    "# Example loop\n",
    "for p in INPUT_DIR.glob('*.png'):\n",
    "    try:\n",
    "        img = Image.open(p).convert('RGB')\n",
    "        uni_emb = encode(img)\n",
    "        rec = decode(uni_emb)\n",
    "        rec_path = OUT_RECONS / f'{p.stem}_recon.png'\n",
    "        rec.save(rec_path)\n",
    "        print('Saved recon:', rec_path)\n",
    "    except Exception as e:\n",
    "        print(f\"Error processing {p}: {e}\")"
   ]
  }
 ],
 "metadata": {
  "kernelspec": {
   "display_name": "Python 3 (ipykernel)",
   "language": "python",
   "name": "python3"
  },
  "language_info": {
   "codemirror_mode": {
    "name": "ipython",
    "version": 3
   },
   "file_extension": ".py",
   "mimetype": "text/x-python",
   "name": "python",
   "nbconvert_exporter": "python",
   "pygments_lexer": "ipython3",
   "version": "3.10.18"
  }
 },
 "nbformat": 4,
 "nbformat_minor": 5
}